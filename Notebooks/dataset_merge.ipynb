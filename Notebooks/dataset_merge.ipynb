{
  "cells": [
    {
      "cell_type": "code",
      "execution_count": 1,
      "metadata": {
        "colab": {
          "base_uri": "https://localhost:8080/"
        },
        "id": "PRXvUBmuNjmV",
        "outputId": "88c78d2c-d1d0-4b70-f7ec-0022479d9a28"
      },
      "outputs": [
        {
          "name": "stdout",
          "output_type": "stream",
          "text": [
            "Collecting roboflow\n",
            "  Obtaining dependency information for roboflow from https://files.pythonhosted.org/packages/eb/d5/97888f43bec54450561e4a6a111da7bd5f55ae9b02424a7310c17f4c33ed/roboflow-1.1.34-py3-none-any.whl.metadata\n",
            "  Downloading roboflow-1.1.34-py3-none-any.whl.metadata (9.5 kB)\n",
            "Collecting certifi (from roboflow)\n",
            "  Obtaining dependency information for certifi from https://files.pythonhosted.org/packages/1c/d5/c84e1a17bf61d4df64ca866a1c9a913874b4e9bdc131ec689a0ad013fb36/certifi-2024.7.4-py3-none-any.whl.metadata\n",
            "  Downloading certifi-2024.7.4-py3-none-any.whl.metadata (2.2 kB)\n",
            "Collecting chardet==4.0.0 (from roboflow)\n",
            "  Obtaining dependency information for chardet==4.0.0 from https://files.pythonhosted.org/packages/19/c7/fa589626997dd07bd87d9269342ccb74b1720384a4d739a1872bd84fbe68/chardet-4.0.0-py2.py3-none-any.whl.metadata\n",
            "  Downloading chardet-4.0.0-py2.py3-none-any.whl.metadata (3.5 kB)\n",
            "Collecting idna==3.7 (from roboflow)\n",
            "  Obtaining dependency information for idna==3.7 from https://files.pythonhosted.org/packages/e5/3e/741d8c82801c347547f8a2a06aa57dbb1992be9e948df2ea0eda2c8b79e8/idna-3.7-py3-none-any.whl.metadata\n",
            "  Using cached idna-3.7-py3-none-any.whl.metadata (9.9 kB)\n",
            "Collecting cycler (from roboflow)\n",
            "  Obtaining dependency information for cycler from https://files.pythonhosted.org/packages/e7/05/c19819d5e3d95294a6f5947fb9b9629efb316b96de511b418c53d245aae6/cycler-0.12.1-py3-none-any.whl.metadata\n",
            "  Using cached cycler-0.12.1-py3-none-any.whl.metadata (3.8 kB)\n",
            "Collecting kiwisolver>=1.3.1 (from roboflow)\n",
            "  Obtaining dependency information for kiwisolver>=1.3.1 from https://files.pythonhosted.org/packages/4a/fe/23d7fa78f7c66086d196406beb1fb2eaf629dd7adc01c3453033303d17fa/kiwisolver-1.4.5-cp311-cp311-macosx_11_0_arm64.whl.metadata\n",
            "  Using cached kiwisolver-1.4.5-cp311-cp311-macosx_11_0_arm64.whl.metadata (6.4 kB)\n",
            "Collecting matplotlib (from roboflow)\n",
            "  Obtaining dependency information for matplotlib from https://files.pythonhosted.org/packages/46/81/38bc95cf20ce6ed9dd5e7aec805bf1efc931e3fdeb9c5b593d00634a4747/matplotlib-3.9.1-cp311-cp311-macosx_11_0_arm64.whl.metadata\n",
            "  Downloading matplotlib-3.9.1-cp311-cp311-macosx_11_0_arm64.whl.metadata (11 kB)\n",
            "Collecting numpy>=1.18.5 (from roboflow)\n",
            "  Obtaining dependency information for numpy>=1.18.5 from https://files.pythonhosted.org/packages/77/4d/ba4a60298c55478b34f13c97a0ac2cf8d225320322976252a250ed04040a/numpy-2.0.0-cp311-cp311-macosx_11_0_arm64.whl.metadata\n",
            "  Downloading numpy-2.0.0-cp311-cp311-macosx_11_0_arm64.whl.metadata (60 kB)\n",
            "\u001b[2K     \u001b[90m━━━━━━━━━━━━━━━━━━━━━━━━━━━━━━━━━━━━━━━\u001b[0m \u001b[32m60.9/60.9 kB\u001b[0m \u001b[31m972.0 kB/s\u001b[0m eta \u001b[36m0:00:00\u001b[0m \u001b[36m0:00:01\u001b[0m\n",
            "\u001b[?25hCollecting opencv-python-headless==4.10.0.84 (from roboflow)\n",
            "  Obtaining dependency information for opencv-python-headless==4.10.0.84 from https://files.pythonhosted.org/packages/1c/9b/583c8d9259f6fc19413f83fd18dd8e6cbc8eefb0b4dc6da52dd151fe3272/opencv_python_headless-4.10.0.84-cp37-abi3-macosx_11_0_arm64.whl.metadata\n",
            "  Downloading opencv_python_headless-4.10.0.84-cp37-abi3-macosx_11_0_arm64.whl.metadata (20 kB)\n",
            "Collecting Pillow>=7.1.2 (from roboflow)\n",
            "  Obtaining dependency information for Pillow>=7.1.2 from https://files.pythonhosted.org/packages/f4/5f/491dafc7bbf5a3cc1845dc0430872e8096eb9e2b6f8161509d124594ec2d/pillow-10.4.0-cp311-cp311-macosx_11_0_arm64.whl.metadata\n",
            "  Downloading pillow-10.4.0-cp311-cp311-macosx_11_0_arm64.whl.metadata (9.2 kB)\n",
            "Requirement already satisfied: python-dateutil in /Users/manselmartins/Documents/code/Aerial-Imaging-Research-Internship/myenv/lib/python3.11/site-packages (from roboflow) (2.9.0.post0)\n",
            "Collecting python-dotenv (from roboflow)\n",
            "  Obtaining dependency information for python-dotenv from https://files.pythonhosted.org/packages/6a/3e/b68c118422ec867fa7ab88444e1274aa40681c606d59ac27de5a5588f082/python_dotenv-1.0.1-py3-none-any.whl.metadata\n",
            "  Downloading python_dotenv-1.0.1-py3-none-any.whl.metadata (23 kB)\n",
            "Collecting requests (from roboflow)\n",
            "  Obtaining dependency information for requests from https://files.pythonhosted.org/packages/f9/9b/335f9764261e915ed497fcdeb11df5dfd6f7bf257d4a6a2a686d80da4d54/requests-2.32.3-py3-none-any.whl.metadata\n",
            "  Downloading requests-2.32.3-py3-none-any.whl.metadata (4.6 kB)\n",
            "Requirement already satisfied: six in /Users/manselmartins/Documents/code/Aerial-Imaging-Research-Internship/myenv/lib/python3.11/site-packages (from roboflow) (1.16.0)\n",
            "Collecting urllib3>=1.26.6 (from roboflow)\n",
            "  Obtaining dependency information for urllib3>=1.26.6 from https://files.pythonhosted.org/packages/ca/1c/89ffc63a9605b583d5df2be791a27bc1a42b7c32bab68d3c8f2f73a98cd4/urllib3-2.2.2-py3-none-any.whl.metadata\n",
            "  Downloading urllib3-2.2.2-py3-none-any.whl.metadata (6.4 kB)\n",
            "Collecting tqdm>=4.41.0 (from roboflow)\n",
            "  Obtaining dependency information for tqdm>=4.41.0 from https://files.pythonhosted.org/packages/18/eb/fdb7eb9e48b7b02554e1664afd3bd3f117f6b6d6c5881438a0b055554f9b/tqdm-4.66.4-py3-none-any.whl.metadata\n",
            "  Downloading tqdm-4.66.4-py3-none-any.whl.metadata (57 kB)\n",
            "\u001b[2K     \u001b[90m━━━━━━━━━━━━━━━━━━━━━━━━━━━━━━━━━━━━━━━━\u001b[0m \u001b[32m57.6/57.6 kB\u001b[0m \u001b[31m3.1 MB/s\u001b[0m eta \u001b[36m0:00:00\u001b[0m\n",
            "\u001b[?25hCollecting PyYAML>=5.3.1 (from roboflow)\n",
            "  Obtaining dependency information for PyYAML>=5.3.1 from https://files.pythonhosted.org/packages/28/09/55f715ddbf95a054b764b547f617e22f1d5e45d83905660e9a088078fe67/PyYAML-6.0.1-cp311-cp311-macosx_11_0_arm64.whl.metadata\n",
            "  Using cached PyYAML-6.0.1-cp311-cp311-macosx_11_0_arm64.whl.metadata (2.1 kB)\n",
            "Collecting requests-toolbelt (from roboflow)\n",
            "  Obtaining dependency information for requests-toolbelt from https://files.pythonhosted.org/packages/3f/51/d4db610ef29373b879047326cbf6fa98b6c1969d6f6dc423279de2b1be2c/requests_toolbelt-1.0.0-py2.py3-none-any.whl.metadata\n",
            "  Downloading requests_toolbelt-1.0.0-py2.py3-none-any.whl.metadata (14 kB)\n",
            "Collecting python-magic (from roboflow)\n",
            "  Obtaining dependency information for python-magic from https://files.pythonhosted.org/packages/6c/73/9f872cb81fc5c3bb48f7227872c28975f998f3e7c2b1c16e95e6432bbb90/python_magic-0.4.27-py2.py3-none-any.whl.metadata\n",
            "  Downloading python_magic-0.4.27-py2.py3-none-any.whl.metadata (5.8 kB)\n",
            "Collecting contourpy>=1.0.1 (from matplotlib->roboflow)\n",
            "  Obtaining dependency information for contourpy>=1.0.1 from https://files.pythonhosted.org/packages/9f/6b/8a1ca4b81d426c104fe42b3cfad9488eaaef0a03fcf98eaecc22b628a013/contourpy-1.2.1-cp311-cp311-macosx_11_0_arm64.whl.metadata\n",
            "  Using cached contourpy-1.2.1-cp311-cp311-macosx_11_0_arm64.whl.metadata (5.8 kB)\n",
            "Collecting fonttools>=4.22.0 (from matplotlib->roboflow)\n",
            "  Obtaining dependency information for fonttools>=4.22.0 from https://files.pythonhosted.org/packages/f5/7e/4060d88dbfaf446e1c9f0fe9cf13dba36ba47c4da85ce5c1df084ce47e7d/fonttools-4.53.1-cp311-cp311-macosx_11_0_arm64.whl.metadata\n",
            "  Downloading fonttools-4.53.1-cp311-cp311-macosx_11_0_arm64.whl.metadata (162 kB)\n",
            "\u001b[2K     \u001b[90m━━━━━━━━━━━━━━━━━━━━━━━━━━━━━━━━━━━━━━━\u001b[0m \u001b[32m162.6/162.6 kB\u001b[0m \u001b[31m2.7 MB/s\u001b[0m eta \u001b[36m0:00:00\u001b[0ma \u001b[36m0:00:01\u001b[0m\n",
            "\u001b[?25hRequirement already satisfied: packaging>=20.0 in /Users/manselmartins/Documents/code/Aerial-Imaging-Research-Internship/myenv/lib/python3.11/site-packages (from matplotlib->roboflow) (24.1)\n",
            "Collecting pyparsing>=2.3.1 (from matplotlib->roboflow)\n",
            "  Obtaining dependency information for pyparsing>=2.3.1 from https://files.pythonhosted.org/packages/9d/ea/6d76df31432a0e6fdf81681a895f009a4bb47b3c39036db3e1b528191d52/pyparsing-3.1.2-py3-none-any.whl.metadata\n",
            "  Using cached pyparsing-3.1.2-py3-none-any.whl.metadata (5.1 kB)\n",
            "Collecting charset-normalizer<4,>=2 (from requests->roboflow)\n",
            "  Obtaining dependency information for charset-normalizer<4,>=2 from https://files.pythonhosted.org/packages/dd/51/68b61b90b24ca35495956b718f35a9756ef7d3dd4b3c1508056fa98d1a1b/charset_normalizer-3.3.2-cp311-cp311-macosx_11_0_arm64.whl.metadata\n",
            "  Using cached charset_normalizer-3.3.2-cp311-cp311-macosx_11_0_arm64.whl.metadata (33 kB)\n",
            "Downloading roboflow-1.1.34-py3-none-any.whl (76 kB)\n",
            "\u001b[2K   \u001b[90m━━━━━━━━━━━━━━━━━━━━━━━━━━━━━━━━━━━━━━━━\u001b[0m \u001b[32m76.2/76.2 kB\u001b[0m \u001b[31m4.7 MB/s\u001b[0m eta \u001b[36m0:00:00\u001b[0m\n",
            "\u001b[?25hDownloading chardet-4.0.0-py2.py3-none-any.whl (178 kB)\n",
            "\u001b[2K   \u001b[90m━━━━━━━━━━━━━━━━━━━━━━━━━━━━━━━━━━━━━━━━\u001b[0m \u001b[32m178.7/178.7 kB\u001b[0m \u001b[31m6.3 MB/s\u001b[0m eta \u001b[36m0:00:00\u001b[0m\n",
            "\u001b[?25hUsing cached idna-3.7-py3-none-any.whl (66 kB)\n",
            "Downloading opencv_python_headless-4.10.0.84-cp37-abi3-macosx_11_0_arm64.whl (54.8 MB)\n",
            "\u001b[2K   \u001b[90m━━━━━━━━━━━━━━━━━━━━━━━━━━━━━━━━━━━━━━━━\u001b[0m \u001b[32m54.8/54.8 MB\u001b[0m \u001b[31m7.4 MB/s\u001b[0m eta \u001b[36m0:00:00\u001b[0m00:01\u001b[0m00:01\u001b[0m\n",
            "\u001b[?25hUsing cached kiwisolver-1.4.5-cp311-cp311-macosx_11_0_arm64.whl (66 kB)\n",
            "Downloading numpy-2.0.0-cp311-cp311-macosx_11_0_arm64.whl (13.3 MB)\n",
            "\u001b[2K   \u001b[90m━━━━━━━━━━━━━━━━━━━━━━━━━━━━━━━━━━━━━━━━\u001b[0m \u001b[32m13.3/13.3 MB\u001b[0m \u001b[31m6.2 MB/s\u001b[0m eta \u001b[36m0:00:00\u001b[0m00:01\u001b[0m00:01\u001b[0m\n",
            "\u001b[?25hDownloading pillow-10.4.0-cp311-cp311-macosx_11_0_arm64.whl (3.4 MB)\n",
            "\u001b[2K   \u001b[90m━━━━━━━━━━━━━━━━━━━━━━━━━━━━━━━━━━━━━━━━\u001b[0m \u001b[32m3.4/3.4 MB\u001b[0m \u001b[31m6.8 MB/s\u001b[0m eta \u001b[36m0:00:00\u001b[0m00:01\u001b[0m00:01\u001b[0m\n",
            "\u001b[?25hUsing cached PyYAML-6.0.1-cp311-cp311-macosx_11_0_arm64.whl (167 kB)\n",
            "Downloading tqdm-4.66.4-py3-none-any.whl (78 kB)\n",
            "\u001b[2K   \u001b[90m━━━━━━━━━━━━━━━━━━━━━━━━━━━━━━━━━━━━━━━━\u001b[0m \u001b[32m78.3/78.3 kB\u001b[0m \u001b[31m5.8 MB/s\u001b[0m eta \u001b[36m0:00:00\u001b[0m\n",
            "\u001b[?25hDownloading urllib3-2.2.2-py3-none-any.whl (121 kB)\n",
            "\u001b[2K   \u001b[90m━━━━━━━━━━━━━━━━━━━━━━━━━━━━━━━━━━━━━━━━\u001b[0m \u001b[32m121.4/121.4 kB\u001b[0m \u001b[31m5.2 MB/s\u001b[0m eta \u001b[36m0:00:00\u001b[0m\n",
            "\u001b[?25hDownloading certifi-2024.7.4-py3-none-any.whl (162 kB)\n",
            "\u001b[2K   \u001b[90m━━━━━━━━━━━━━━━━━━━━━━━━━━━━━━━━━━━━━━━━\u001b[0m \u001b[32m163.0/163.0 kB\u001b[0m \u001b[31m7.1 MB/s\u001b[0m eta \u001b[36m0:00:00\u001b[0m\n",
            "\u001b[?25hUsing cached cycler-0.12.1-py3-none-any.whl (8.3 kB)\n",
            "Downloading matplotlib-3.9.1-cp311-cp311-macosx_11_0_arm64.whl (7.8 MB)\n",
            "\u001b[2K   \u001b[90m━━━━━━━━━━━━━━━━━━━━━━━━━━━━━━━━━━━━━━━━\u001b[0m \u001b[32m7.8/7.8 MB\u001b[0m \u001b[31m6.8 MB/s\u001b[0m eta \u001b[36m0:00:00\u001b[0m00:01\u001b[0m00:01\u001b[0m\n",
            "\u001b[?25hDownloading python_dotenv-1.0.1-py3-none-any.whl (19 kB)\n",
            "Downloading python_magic-0.4.27-py2.py3-none-any.whl (13 kB)\n",
            "Downloading requests-2.32.3-py3-none-any.whl (64 kB)\n",
            "\u001b[2K   \u001b[90m━━━━━━━━━━━━━━━━━━━━━━━━━━━━━━━━━━━━━━━━\u001b[0m \u001b[32m64.9/64.9 kB\u001b[0m \u001b[31m3.9 MB/s\u001b[0m eta \u001b[36m0:00:00\u001b[0m\n",
            "\u001b[?25hDownloading requests_toolbelt-1.0.0-py2.py3-none-any.whl (54 kB)\n",
            "\u001b[2K   \u001b[90m━━━━━━━━━━━━━━━━━━━━━━━━━━━━━━━━━━━━━━━━\u001b[0m \u001b[32m54.5/54.5 kB\u001b[0m \u001b[31m4.8 MB/s\u001b[0m eta \u001b[36m0:00:00\u001b[0m\n",
            "\u001b[?25hUsing cached charset_normalizer-3.3.2-cp311-cp311-macosx_11_0_arm64.whl (118 kB)\n",
            "Using cached contourpy-1.2.1-cp311-cp311-macosx_11_0_arm64.whl (245 kB)\n",
            "Downloading fonttools-4.53.1-cp311-cp311-macosx_11_0_arm64.whl (2.2 MB)\n",
            "\u001b[2K   \u001b[90m━━━━━━━━━━━━━━━━━━━━━━━━━━━━━━━━━━━━━━━━\u001b[0m \u001b[32m2.2/2.2 MB\u001b[0m \u001b[31m6.7 MB/s\u001b[0m eta \u001b[36m0:00:00\u001b[0ma \u001b[36m0:00:01\u001b[0m\n",
            "\u001b[?25hUsing cached pyparsing-3.1.2-py3-none-any.whl (103 kB)\n",
            "Installing collected packages: urllib3, tqdm, PyYAML, python-magic, python-dotenv, pyparsing, Pillow, numpy, kiwisolver, idna, fonttools, cycler, charset-normalizer, chardet, certifi, requests, opencv-python-headless, contourpy, requests-toolbelt, matplotlib, roboflow\n",
            "Successfully installed Pillow-10.4.0 PyYAML-6.0.1 certifi-2024.7.4 chardet-4.0.0 charset-normalizer-3.3.2 contourpy-1.2.1 cycler-0.12.1 fonttools-4.53.1 idna-3.7 kiwisolver-1.4.5 matplotlib-3.9.1 numpy-2.0.0 opencv-python-headless-4.10.0.84 pyparsing-3.1.2 python-dotenv-1.0.1 python-magic-0.4.27 requests-2.32.3 requests-toolbelt-1.0.0 roboflow-1.1.34 tqdm-4.66.4 urllib3-2.2.2\n",
            "\n",
            "\u001b[1m[\u001b[0m\u001b[34;49mnotice\u001b[0m\u001b[1;39;49m]\u001b[0m\u001b[39;49m A new release of pip is available: \u001b[0m\u001b[31;49m23.2.1\u001b[0m\u001b[39;49m -> \u001b[0m\u001b[32;49m24.1.2\u001b[0m\n",
            "\u001b[1m[\u001b[0m\u001b[34;49mnotice\u001b[0m\u001b[1;39;49m]\u001b[0m\u001b[39;49m To update, run: \u001b[0m\u001b[32;49mpip install --upgrade pip\u001b[0m\n",
            "Note: you may need to restart the kernel to use updated packages.\n"
          ]
        }
      ],
      "source": [
        "%pip install roboflow"
      ]
    },
    {
      "cell_type": "code",
      "execution_count": 2,
      "metadata": {
        "colab": {
          "base_uri": "https://localhost:8080/"
        },
        "id": "tstoV-1gNt5U",
        "outputId": "30ed8a23-baee-48fc-d1c5-244011e8d4f6"
      },
      "outputs": [
        {
          "name": "stderr",
          "output_type": "stream",
          "text": [
            "Matplotlib is building the font cache; this may take a moment.\n"
          ]
        },
        {
          "name": "stdout",
          "output_type": "stream",
          "text": [
            "loading Roboflow workspace...\n",
            "loading Roboflow project...\n"
          ]
        },
        {
          "name": "stderr",
          "output_type": "stream",
          "text": [
            "Downloading Dataset Version Zip in coconut-tree-1 to yolov9:: 100%|██████████| 8445/8445 [00:03<00:00, 2623.85it/s]"
          ]
        },
        {
          "name": "stdout",
          "output_type": "stream",
          "text": [
            "\n"
          ]
        },
        {
          "name": "stderr",
          "output_type": "stream",
          "text": [
            "\n",
            "Extracting Dataset Version Zip to coconut-tree-1 in yolov9:: 100%|██████████| 554/554 [00:00<00:00, 7298.86it/s]\n"
          ]
        }
      ],
      "source": [
        "from roboflow import Roboflow\n",
        "rf = Roboflow(api_key=\"I6qmV1iepUa01KMyN5rq\")\n",
        "project = rf.workspace(\"masood\").project(\"coconut-tree-k6rna\")\n",
        "version = project.version(1)\n",
        "dataset = version.download(\"yolov9\")"
      ]
    },
    {
      "cell_type": "code",
      "execution_count": 3,
      "metadata": {
        "colab": {
          "base_uri": "https://localhost:8080/"
        },
        "id": "yW4AIFIEN0Em",
        "outputId": "7f648b14-a347-455a-ba99-cf81dde0fcbe"
      },
      "outputs": [
        {
          "name": "stdout",
          "output_type": "stream",
          "text": [
            "loading Roboflow workspace...\n",
            "loading Roboflow project...\n"
          ]
        },
        {
          "name": "stderr",
          "output_type": "stream",
          "text": [
            "Downloading Dataset Version Zip in Date-Palm-Crown-3 to yolov9:: 100%|██████████| 67449/67449 [00:13<00:00, 5044.75it/s]"
          ]
        },
        {
          "name": "stdout",
          "output_type": "stream",
          "text": [
            "\n"
          ]
        },
        {
          "name": "stderr",
          "output_type": "stream",
          "text": [
            "\n",
            "Extracting Dataset Version Zip to Date-Palm-Crown-3 in yolov9:: 100%|██████████| 3474/3474 [00:00<00:00, 10410.92it/s]\n"
          ]
        }
      ],
      "source": [
        "project = rf.workspace(\"sharif-btsla\").project(\"date-palm-crown\")\n",
        "version = project.version(3)\n",
        "dataset = version.download(\"yolov9\")"
      ]
    },
    {
      "cell_type": "code",
      "execution_count": 4,
      "metadata": {
        "colab": {
          "base_uri": "https://localhost:8080/"
        },
        "id": "IcnNJPiAN1-i",
        "outputId": "c35ce0b7-e129-48a0-8455-d67858946181"
      },
      "outputs": [
        {
          "name": "stdout",
          "output_type": "stream",
          "text": [
            "loading Roboflow workspace...\n",
            "loading Roboflow project...\n"
          ]
        },
        {
          "name": "stderr",
          "output_type": "stream",
          "text": [
            "Downloading Dataset Version Zip in Count-banana-plants-32 to yolov9:: 100%|██████████| 45684/45684 [00:08<00:00, 5333.94it/s]"
          ]
        },
        {
          "name": "stdout",
          "output_type": "stream",
          "text": [
            "\n"
          ]
        },
        {
          "name": "stderr",
          "output_type": "stream",
          "text": [
            "\n",
            "Extracting Dataset Version Zip to Count-banana-plants-32 in yolov9:: 100%|██████████| 1968/1968 [00:00<00:00, 9679.29it/s]\n"
          ]
        }
      ],
      "source": [
        "project = rf.workspace(\"count-banana-plants\").project(\"count-banana-plants\")\n",
        "version = project.version(32)\n",
        "dataset = version.download(\"yolov9\")"
      ]
    },
    {
      "cell_type": "code",
      "execution_count": 5,
      "metadata": {
        "colab": {
          "base_uri": "https://localhost:8080/"
        },
        "id": "v08NFTTsN8sK",
        "outputId": "8326d72b-9cc1-42b2-96fd-158396ebbd74"
      },
      "outputs": [
        {
          "name": "stdout",
          "output_type": "stream",
          "text": [
            "loading Roboflow workspace...\n",
            "loading Roboflow project...\n"
          ]
        },
        {
          "name": "stderr",
          "output_type": "stream",
          "text": [
            "Downloading Dataset Version Zip in tree_classification_count_v3-1 to yolov9:: 100%|██████████| 9115/9115 [00:03<00:00, 2462.92it/s]"
          ]
        },
        {
          "name": "stdout",
          "output_type": "stream",
          "text": [
            "\n"
          ]
        },
        {
          "name": "stderr",
          "output_type": "stream",
          "text": [
            "\n",
            "Extracting Dataset Version Zip to tree_classification_count_v3-1 in yolov9:: 100%|██████████| 574/574 [00:00<00:00, 7226.09it/s]\n"
          ]
        }
      ],
      "source": [
        "\n",
        "project = rf.workspace(\"treeclassification\").project(\"tree_classification_count_v3\")\n",
        "version = project.version(1)\n",
        "dataset = version.download(\"yolov9\")"
      ]
    },
    {
      "cell_type": "code",
      "execution_count": 6,
      "metadata": {
        "id": "350RcqPDOCWL"
      },
      "outputs": [],
      "source": [
        "def changeLablesTreeClass(file_path, new_path):\n",
        "    with  open(file_path) as f:\n",
        "        s = f.read()\n",
        "    labelC ='4'# Coniferous Tree\n",
        "    labelD ='5'# Deciduous Tree\n",
        "\n",
        "    with open(new_path, 'w+') as f2:\n",
        "        for line in s.split('\\n'):\n",
        "            if len(line) == 0:\n",
        "                continue\n",
        "            [label, x,y,h,w] = line.split()\n",
        "            if label == labelC or label == labelD:\n",
        "                newLabel =str(int(label)-int(labelC))\n",
        "                string = f\"{newLabel} {x} {y} {h} {w}\\n\"\n",
        "                f2.write(string)"
      ]
    },
    {
      "cell_type": "code",
      "execution_count": 7,
      "metadata": {
        "id": "EVjmpPK-OJgo"
      },
      "outputs": [],
      "source": [
        "def changeLablesOther(file_path, new_path, new_label:str):\n",
        "    with  open(file_path) as f:\n",
        "        s = f.read()\n",
        "\n",
        "    with open(new_path, 'w+') as f2:\n",
        "        for line in s.split('\\n'):\n",
        "            if len(line) == 0:\n",
        "                continue\n",
        "            [label, x,y,h,w] = line.split()\n",
        "\n",
        "            string = f\"{new_label} {x} {y} {h} {w}\\n\"\n",
        "            f2.write(string)"
      ]
    },
    {
      "cell_type": "code",
      "execution_count": 8,
      "metadata": {
        "id": "zXNikqGNO3wB"
      },
      "outputs": [],
      "source": [
        "from glob import glob\n",
        "paths =glob('./tree_classification_count_v3-1/*/labels/*.txt')"
      ]
    },
    {
      "cell_type": "code",
      "execution_count": 9,
      "metadata": {
        "id": "bJMhuZE2PNMq"
      },
      "outputs": [],
      "source": [
        "for path in paths:\n",
        "    changeLablesTreeClass(path, path)"
      ]
    },
    {
      "cell_type": "code",
      "execution_count": 10,
      "metadata": {
        "colab": {
          "base_uri": "https://localhost:8080/"
        },
        "id": "Lgq-c0D4PTym",
        "outputId": "2e996b99-2c65-47a7-ddfe-518c340f2b41"
      },
      "outputs": [
        {
          "data": {
            "text/plain": [
              "['./Count-banana-plants-32/valid/labels/100_0222_0011_2400_3840_JPG.rf.e969f3efda994fcb62a4d2b530eb30a1.txt',\n",
              " './Count-banana-plants-32/valid/labels/100_0222_0177_2400_3840_JPG.rf.a89f5f179474bb38883321a2116d03c5.txt',\n",
              " './Count-banana-plants-32/valid/labels/100_0221_0140_480_480_JPG.rf.a0cfaf1c81c0e2e6ee21ff8a9481ea50.txt']"
            ]
          },
          "execution_count": 10,
          "metadata": {},
          "output_type": "execute_result"
        }
      ],
      "source": [
        "paths =glob('./Count-banana-plants-32/*/labels/*.txt')\n",
        "paths[:3]"
      ]
    },
    {
      "cell_type": "code",
      "execution_count": 11,
      "metadata": {
        "id": "M8uhWjjDPkdN"
      },
      "outputs": [],
      "source": [
        "for path in paths:\n",
        "  changeLablesOther(path, path, '2')"
      ]
    },
    {
      "cell_type": "code",
      "execution_count": 12,
      "metadata": {
        "colab": {
          "base_uri": "https://localhost:8080/"
        },
        "id": "yj1cEMs6Psyg",
        "outputId": "554b79fb-4fd3-468f-d782-434cb63e36aa"
      },
      "outputs": [
        {
          "data": {
            "text/plain": [
              "['./Date-Palm-Crown-3/valid/labels/GOPR2727-MP4_20231127220024_0177_JPEG.rf.bda8ad5fbf83bb0a8ea166cd67acb6e5.txt',\n",
              " './Date-Palm-Crown-3/valid/labels/GOPR2727-MP4_20231127220024_0126_JPEG.rf.61770daf55c1f976f6941ee58baf2744.txt',\n",
              " './Date-Palm-Crown-3/valid/labels/GOPR2726-MP4_20231127193915_0295_JPEG.rf.1825dba55d86cf33656dc6da7d613fcb.txt']"
            ]
          },
          "execution_count": 12,
          "metadata": {},
          "output_type": "execute_result"
        }
      ],
      "source": [
        "paths =glob('./Date-Palm-Crown-3/*/labels/*.txt')\n",
        "paths[:3]"
      ]
    },
    {
      "cell_type": "code",
      "execution_count": 13,
      "metadata": {
        "id": "A_7eGmW2P185"
      },
      "outputs": [],
      "source": [
        "for path in paths:\n",
        "  changeLablesOther(path, path, '3')"
      ]
    },
    {
      "cell_type": "code",
      "execution_count": 14,
      "metadata": {
        "colab": {
          "base_uri": "https://localhost:8080/"
        },
        "id": "piMR7TfQP5rp",
        "outputId": "4c028fdf-8f47-4ed5-a6d0-230738f015de"
      },
      "outputs": [
        {
          "data": {
            "text/plain": [
              "['./coconut-tree-1/valid/labels/000033_jpg.rf.53098c48e79de9fb2616bc8f50a937e0.txt',\n",
              " './coconut-tree-1/valid/labels/000105_jpg.rf.67c333e52fc72c6e27c691efa70b6167.txt',\n",
              " './coconut-tree-1/valid/labels/000074_jpg.rf.cf9c43d104eaaef897e777be2e22a517.txt']"
            ]
          },
          "execution_count": 14,
          "metadata": {},
          "output_type": "execute_result"
        }
      ],
      "source": [
        "paths =glob('./coconut-tree-1/*/labels/*.txt')\n",
        "paths[:3]"
      ]
    },
    {
      "cell_type": "code",
      "execution_count": 15,
      "metadata": {
        "id": "ErRb3XCyP-VK"
      },
      "outputs": [],
      "source": [
        "for path in paths:\n",
        "  changeLablesOther(path, path, '4')"
      ]
    },
    {
      "cell_type": "code",
      "execution_count": 3,
      "metadata": {
        "id": "s-7Un-9ZQmOL"
      },
      "outputs": [],
      "source": [
        "import os\n",
        "parent_dir = '../data/'\n",
        "dirs_1 = [ 'test','train', 'valid']\n",
        "dirs_2 = ['images', 'labels']\n",
        "mode = 0o770\n",
        "\n",
        "os.mkdir(parent_dir, mode)\n",
        "for dir1 in dirs_1:\n",
        "  path = os.path.join(parent_dir, dir1)\n",
        "  os.mkdir(path, mode)\n",
        "  for dir2 in dirs_2:\n",
        "    path2 = os.path.join(path, dir2)\n",
        "    os.mkdir(path2, mode)"
      ]
    },
    {
      "cell_type": "code",
      "execution_count": 4,
      "metadata": {
        "id": "PQk3essVXK-d"
      },
      "outputs": [],
      "source": [
        "import os\n",
        "from glob import glob\n",
        "import shutil\n",
        "parent_dirs = ['./tree_classification_count_v3-1/','./Count-banana-plants-32/','./Date-Palm-Crown-3/','./coconut-tree-1/' ]\n",
        "dirs_1 = ['test', 'train', 'valid']\n",
        "dirs_2 = ['images', 'labels']\n",
        "\n",
        "new_parent = '../data/'\n",
        "for p in parent_dirs:\n",
        "  for d1 in dirs_1:\n",
        "    p1 = os.path.join(p,d1)\n",
        "    new_p1 = os.path.join(new_parent, d1)\n",
        "    for d2 in dirs_2:\n",
        "      p2 = os.path.join(p1, d2)\n",
        "      new_p2 = os.path.join(new_p1, d2)\n",
        "      glob_pattern = os.path.join(p2, '*')\n",
        "      paths = glob(glob_pattern)\n",
        "      for path in paths:\n",
        "        new_path = os.path.join(new_p2, os.path.basename(path))\n",
        "        shutil.copyfile(path, new_path)\n"
      ]
    },
    {
      "cell_type": "code",
      "execution_count": 5,
      "metadata": {
        "colab": {
          "base_uri": "https://localhost:8080/"
        },
        "id": "osd3MA6Pdl9v",
        "outputId": "873df3e0-89e0-4f34-fac2-d9b339b699fc"
      },
      "outputs": [
        {
          "name": "stdout",
          "output_type": "stream",
          "text": [
            "84 10 4\n"
          ]
        }
      ],
      "source": [
        "test_labels = glob('../data/test/labels/*')\n",
        "train_labels = glob('../data/train/labels/*')\n",
        "valid_labels = glob('../data/valid/labels/*')\n",
        "x, y,z = len(test_labels), len(train_labels), len(valid_labels)\n",
        "total = x+y+z\n",
        "print(y*100//total, z*100//total, x*100//total)"
      ]
    },
    {
      "cell_type": "code",
      "execution_count": 6,
      "metadata": {
        "id": "I_NuwaVCetrI"
      },
      "outputs": [],
      "source": [
        "file_name = '../data/data.yaml'\n",
        "file_content = '''names:\n",
        "- Coniferous Tree\n",
        "- Deciduous Tree\n",
        "- Banana-plant\n",
        "- Date-Palm-Crown\n",
        "- coconut tree\n",
        "nc: 5\n",
        "test: ./test/images\n",
        "train: ./train/images\n",
        "val: ./valid/images\n",
        "'''\n",
        "\n",
        "with open(file_name, 'w+') as f:\n",
        "  f.write(file_content)"
      ]
    }
  ],
  "metadata": {
    "accelerator": "GPU",
    "colab": {
      "gpuType": "T4",
      "provenance": []
    },
    "kernelspec": {
      "display_name": "Python 3",
      "name": "python3"
    },
    "language_info": {
      "codemirror_mode": {
        "name": "ipython",
        "version": 3
      },
      "file_extension": ".py",
      "mimetype": "text/x-python",
      "name": "python",
      "nbconvert_exporter": "python",
      "pygments_lexer": "ipython3",
      "version": "3.11.5"
    }
  },
  "nbformat": 4,
  "nbformat_minor": 0
}
