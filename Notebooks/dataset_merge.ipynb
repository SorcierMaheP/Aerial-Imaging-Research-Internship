{
  "cells": [
    {
      "cell_type": "code",
      "execution_count": null,
      "metadata": {
        "colab": {
          "base_uri": "https://localhost:8080/"
        },
        "id": "PRXvUBmuNjmV",
        "outputId": "88c78d2c-d1d0-4b70-f7ec-0022479d9a28"
      },
      "outputs": [],
      "source": [
        "%pip install roboflow"
      ]
    },
    {
      "cell_type": "code",
      "execution_count": null,
      "metadata": {
        "colab": {
          "base_uri": "https://localhost:8080/"
        },
        "id": "tstoV-1gNt5U",
        "outputId": "30ed8a23-baee-48fc-d1c5-244011e8d4f6"
      },
      "outputs": [],
      "source": [
        "from roboflow import Roboflow\n",
        "rf = Roboflow(api_key=\"INSERT_API_KEY_HERE\")\n",
        "project = rf.workspace(\"masood\").project(\"coconut-tree-k6rna\")\n",
        "version = project.version(1)\n",
        "dataset = version.download(\"yolov9\")"
      ]
    },
    {
      "cell_type": "code",
      "execution_count": null,
      "metadata": {
        "colab": {
          "base_uri": "https://localhost:8080/"
        },
        "id": "yW4AIFIEN0Em",
        "outputId": "7f648b14-a347-455a-ba99-cf81dde0fcbe"
      },
      "outputs": [],
      "source": [
        "project = rf.workspace(\"sharif-btsla\").project(\"date-palm-crown\")\n",
        "version = project.version(3)\n",
        "dataset = version.download(\"yolov9\")"
      ]
    },
    {
      "cell_type": "code",
      "execution_count": null,
      "metadata": {
        "colab": {
          "base_uri": "https://localhost:8080/"
        },
        "id": "IcnNJPiAN1-i",
        "outputId": "c35ce0b7-e129-48a0-8455-d67858946181"
      },
      "outputs": [],
      "source": [
        "project = rf.workspace(\"count-banana-plants\").project(\"count-banana-plants\")\n",
        "version = project.version(32)\n",
        "dataset = version.download(\"yolov9\")"
      ]
    },
    {
      "cell_type": "code",
      "execution_count": null,
      "metadata": {
        "colab": {
          "base_uri": "https://localhost:8080/"
        },
        "id": "v08NFTTsN8sK",
        "outputId": "8326d72b-9cc1-42b2-96fd-158396ebbd74"
      },
      "outputs": [],
      "source": [
        "\n",
        "project = rf.workspace(\"treeclassification\").project(\"tree_classification_count_v3\")\n",
        "version = project.version(1)\n",
        "dataset = version.download(\"yolov9\")"
      ]
    },
    {
      "cell_type": "code",
      "execution_count": null,
      "metadata": {
        "id": "350RcqPDOCWL"
      },
      "outputs": [],
      "source": [
        "def changeLablesTreeClass(file_path, new_path):\n",
        "    with  open(file_path) as f:\n",
        "        s = f.read()\n",
        "    labelC ='4'# Coniferous Tree\n",
        "    labelD ='5'# Deciduous Tree\n",
        "\n",
        "    with open(new_path, 'w+') as f2:\n",
        "        for line in s.split('\\n'):\n",
        "            if len(line) == 0:\n",
        "                continue\n",
        "            [label, x,y,h,w] = line.split()\n",
        "            if label == labelC or label == labelD:\n",
        "                newLabel =str(int(label)-int(labelC))\n",
        "                string = f\"{newLabel} {x} {y} {h} {w}\\n\"\n",
        "                f2.write(string)"
      ]
    },
    {
      "cell_type": "code",
      "execution_count": null,
      "metadata": {
        "id": "EVjmpPK-OJgo"
      },
      "outputs": [],
      "source": [
        "def changeLablesOther(file_path, new_path, new_label:str):\n",
        "    with  open(file_path) as f:\n",
        "        s = f.read()\n",
        "\n",
        "    with open(new_path, 'w+') as f2:\n",
        "        for line in s.split('\\n'):\n",
        "            if len(line) == 0:\n",
        "                continue\n",
        "            [label, x,y,h,w] = line.split()\n",
        "\n",
        "            string = f\"{new_label} {x} {y} {h} {w}\\n\"\n",
        "            f2.write(string)"
      ]
    },
    {
      "cell_type": "code",
      "execution_count": null,
      "metadata": {
        "id": "zXNikqGNO3wB"
      },
      "outputs": [],
      "source": [
        "from glob import glob\n",
        "paths =glob('./tree_classification_count_v3-1/*/labels/*.txt')"
      ]
    },
    {
      "cell_type": "code",
      "execution_count": null,
      "metadata": {
        "id": "bJMhuZE2PNMq"
      },
      "outputs": [],
      "source": [
        "for path in paths:\n",
        "    changeLablesTreeClass(path, path)"
      ]
    },
    {
      "cell_type": "code",
      "execution_count": null,
      "metadata": {
        "colab": {
          "base_uri": "https://localhost:8080/"
        },
        "id": "Lgq-c0D4PTym",
        "outputId": "2e996b99-2c65-47a7-ddfe-518c340f2b41"
      },
      "outputs": [],
      "source": [
        "paths =glob('./Count-banana-plants-32/*/labels/*.txt')\n",
        "paths[:3]"
      ]
    },
    {
      "cell_type": "code",
      "execution_count": null,
      "metadata": {
        "id": "M8uhWjjDPkdN"
      },
      "outputs": [],
      "source": [
        "for path in paths:\n",
        "  changeLablesOther(path, path, '2')"
      ]
    },
    {
      "cell_type": "code",
      "execution_count": null,
      "metadata": {
        "colab": {
          "base_uri": "https://localhost:8080/"
        },
        "id": "yj1cEMs6Psyg",
        "outputId": "554b79fb-4fd3-468f-d782-434cb63e36aa"
      },
      "outputs": [],
      "source": [
        "paths =glob('./Date-Palm-Crown-3/*/labels/*.txt')\n",
        "paths[:3]"
      ]
    },
    {
      "cell_type": "code",
      "execution_count": null,
      "metadata": {
        "id": "A_7eGmW2P185"
      },
      "outputs": [],
      "source": [
        "for path in paths:\n",
        "  changeLablesOther(path, path, '3')"
      ]
    },
    {
      "cell_type": "code",
      "execution_count": null,
      "metadata": {
        "colab": {
          "base_uri": "https://localhost:8080/"
        },
        "id": "piMR7TfQP5rp",
        "outputId": "4c028fdf-8f47-4ed5-a6d0-230738f015de"
      },
      "outputs": [],
      "source": [
        "paths =glob('./coconut-tree-1/*/labels/*.txt')\n",
        "paths[:3]"
      ]
    },
    {
      "cell_type": "code",
      "execution_count": null,
      "metadata": {
        "id": "ErRb3XCyP-VK"
      },
      "outputs": [],
      "source": [
        "for path in paths:\n",
        "  changeLablesOther(path, path, '4')"
      ]
    },
    {
      "cell_type": "code",
      "execution_count": null,
      "metadata": {
        "id": "s-7Un-9ZQmOL"
      },
      "outputs": [],
      "source": [
        "import os\n",
        "parent_dir = './data/'\n",
        "dirs_1 = [ 'test','train', 'valid']\n",
        "dirs_2 = ['images', 'labels']\n",
        "mode = 0o666\n",
        "\n",
        "os.mkdir(parent_dir, mode)\n",
        "for dir1 in dirs_1:\n",
        "  path = os.path.join(parent_dir, dir1)\n",
        "  os.mkdir(path, mode)\n",
        "  for dir2 in dirs_2:\n",
        "    path2 = os.path.join(path, dir2)\n",
        "    os.mkdir(path2, mode)"
      ]
    },
    {
      "cell_type": "code",
      "execution_count": null,
      "metadata": {
        "id": "PQk3essVXK-d"
      },
      "outputs": [],
      "source": [
        "import os\n",
        "from glob import glob\n",
        "import shutil\n",
        "parent_dirs = ['./tree_classification_count_v3-1/','./Count-banana-plants-32/','./Date-Palm-Crown-3/','./coconut-tree-1/' ]\n",
        "dirs_1 = ['test', 'train', 'valid']\n",
        "dirs_2 = ['images', 'labels']\n",
        "\n",
        "new_parent = './data/'\n",
        "for p in parent_dirs:\n",
        "  for d1 in dirs_1:\n",
        "    p1 = os.path.join(p,d1)\n",
        "    new_p1 = os.path.join(new_parent, d1)\n",
        "    for d2 in dirs_2:\n",
        "      p2 = os.path.join(p1, d2)\n",
        "      new_p2 = os.path.join(new_p1, d2)\n",
        "      glob_pattern = os.path.join(p2, '*')\n",
        "      paths = glob(glob_pattern)\n",
        "      for path in paths:\n",
        "        new_path = os.path.join(new_p2, os.path.basename(path))\n",
        "        shutil.copyfile(path, new_path)\n"
      ]
    },
    {
      "cell_type": "code",
      "execution_count": null,
      "metadata": {
        "colab": {
          "base_uri": "https://localhost:8080/"
        },
        "id": "osd3MA6Pdl9v",
        "outputId": "873df3e0-89e0-4f34-fac2-d9b339b699fc"
      },
      "outputs": [],
      "source": [
        "test_labels = glob('./data/test/labels/*')\n",
        "train_labels = glob('./data/train/labels/*')\n",
        "valid_labels = glob('./data/valid/labels/*')\n",
        "x, y,z = len(test_labels), len(train_labels), len(valid_labels)\n",
        "total = x+y+z\n",
        "print(y*100//total, z*100//total, x*100//total)"
      ]
    },
    {
      "cell_type": "code",
      "execution_count": null,
      "metadata": {
        "id": "I_NuwaVCetrI"
      },
      "outputs": [],
      "source": [
        "file_name = './data/data.yaml'\n",
        "file_content = '''names:\n",
        "- Coniferous Tree\n",
        "- Deciduous Tree\n",
        "- Banana-plant\n",
        "- Date-Palm-Crown\n",
        "- coconut tree\n",
        "nc: 5\n",
        "test: ./test/images\n",
        "train: ./train/images\n",
        "val: ./valid/images\n",
        "'''\n",
        "\n",
        "with open(file_name, 'w+') as f:\n",
        "  f.write(file_content)"
      ]
    }
  ],
  "metadata": {
    "accelerator": "GPU",
    "colab": {
      "gpuType": "T4",
      "provenance": []
    },
    "kernelspec": {
      "display_name": "Python 3",
      "name": "python3"
    },
    "language_info": {
      "name": "python"
    }
  },
  "nbformat": 4,
  "nbformat_minor": 0
}
