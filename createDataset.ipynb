{
 "cells": [
  {
   "cell_type": "code",
   "execution_count": 13,
   "metadata": {},
   "outputs": [],
   "source": [
    "import zipfile\n",
    "import os\n",
    "import shutil\n",
    "import glob\n",
    "\n",
    "# probably dont need this for now\n",
    "#import globox "
   ]
  },
  {
   "cell_type": "code",
   "execution_count": null,
   "metadata": {},
   "outputs": [],
   "source": [
    "!gdown https://drive.google.com/uc?id=1YdRAyydrRh_2j1A0sUcLHcR156SuPQ3Y"
   ]
  },
  {
   "cell_type": "code",
   "execution_count": 2,
   "metadata": {},
   "outputs": [],
   "source": [
    "# doing this in code to maintain cross compatability with windows peasants \n",
    "# alternatively use: !unzip augmented_dataset.zip\n",
    "with zipfile.ZipFile(\"./augmented_dataset.zip\", 'r') as zip_ref:\n",
    "    zip_ref.extractall(\"./\")"
   ]
  },
  {
   "cell_type": "code",
   "execution_count": 20,
   "metadata": {},
   "outputs": [],
   "source": [
    "# remove the dataset metrics images and stuff, that we dont need, to make the next step easier \n",
    "\n",
    "folder = 'augmented_dataset/Trspeclass.v2i.yolov8/'\n",
    "\n",
    "for filename in os.listdir(folder):\n",
    "    file_path = os.path.join(folder, filename)\n",
    "    try:\n",
    "        if os.path.isfile(file_path) or os.path.islink(file_path):\n",
    "            os.unlink(file_path)\n",
    "\n",
    "    except Exception as e:\n",
    "        print('Failed to delete %s. Reason: %s' % (file_path, e))\n",
    "\n"
   ]
  },
  {
   "cell_type": "code",
   "execution_count": 10,
   "metadata": {},
   "outputs": [],
   "source": [
    "# making the dirs because for some reason shutil.move doesnt make them\n",
    "os.makedirs('AugmentedDatasetCombined/Images/')\n",
    "os.makedirs('AugmentedDatasetCombined/Labels/')"
   ]
  },
  {
   "cell_type": "code",
   "execution_count": null,
   "metadata": {},
   "outputs": [],
   "source": [
    "\n",
    "#  ================================= moving the images ==================================================\n",
    "source = 'augmented_dataset/Trspeclass.v2i.yolov8/'\n",
    "destination = 'AugmentedDatasetCombined/Images/'\n",
    "\n",
    "# gather all files\n",
    "allfiles = glob.glob(os.path.join(source, '**/*.jpg'), recursive=True)\n",
    "print(\"Files to move\", allfiles, sep=\"\\n\")\n",
    " \n",
    "# iterate on all files to move them to destination folder\n",
    "for file_path in allfiles:\n",
    "    dst_path = destination\n",
    "    shutil.move(file_path, dst_path)\n",
    "    print(f\"Moved {file_path} -> {dst_path}\")\n",
    "\n",
    "# =================================== Move the labels now =============================================\n",
    "destination = 'AugmentedDatasetCombined/Labels/'\n",
    "\n",
    "# gather all files\n",
    "allfiles = glob.glob(os.path.join(source, '**/*.txt'), recursive=True)\n",
    "print(\"Files to move\", allfiles, sep=\"\\n\")\n",
    " \n",
    "# iterate on all files to move them to destination folder\n",
    "for file_path in allfiles:\n",
    "    dst_path = destination\n",
    "    shutil.move(file_path, dst_path)\n",
    "    print(f\"Moved {file_path} -> {dst_path}\")\n"
   ]
  },
  {
   "cell_type": "markdown",
   "metadata": {},
   "source": [
    "#### Maybe dont run these, not really sure how to make it a proper COCO dataset format"
   ]
  },
  {
   "cell_type": "code",
   "execution_count": 14,
   "metadata": {},
   "outputs": [],
   "source": [
    "# load the dataset \n",
    "yolo = globox.AnnotationSet.from_yolo_v5(folder=\"AugmentedDatasetCombined/Labels\", image_folder=\"AugmentedDatasetCombined/Images\")"
   ]
  },
  {
   "cell_type": "code",
   "execution_count": 15,
   "metadata": {},
   "outputs": [
    {
     "data": {
      "text/html": [
       "<pre style=\"white-space:pre;overflow-x:auto;line-height:normal;font-family:Menlo,'DejaVu Sans Mono',consolas,'Courier New',monospace\"><span style=\"font-style: italic\">          Database Stats          </span>\n",
       "┏━━━━━━━━━━━━━━━┳━━━━━━━━┳━━━━━━━┓\n",
       "┃<span style=\"font-weight: bold\"> Label         </span>┃<span style=\"font-weight: bold\"> Images </span>┃<span style=\"font-weight: bold\"> Boxes </span>┃\n",
       "┡━━━━━━━━━━━━━━━╇━━━━━━━━╇━━━━━━━┩\n",
       "│ 0             │    515 │  1465 │\n",
       "│ 1             │    307 │  1698 │\n",
       "│ 2             │   3229 │  3772 │\n",
       "│ 3             │    324 │  1304 │\n",
       "│ 4             │    978 │ 11630 │\n",
       "│ &lt;empty_image&gt; │     14 │     0 │\n",
       "├───────────────┼────────┼───────┤\n",
       "│<span style=\"font-weight: bold\"> Total         </span>│<span style=\"font-weight: bold\">   5248 </span>│<span style=\"font-weight: bold\"> 19869 </span>│\n",
       "└───────────────┴────────┴───────┘\n",
       "</pre>\n"
      ],
      "text/plain": [
       "\u001b[3m          Database Stats          \u001b[0m\n",
       "┏━━━━━━━━━━━━━━━┳━━━━━━━━┳━━━━━━━┓\n",
       "┃\u001b[1m \u001b[0m\u001b[1mLabel        \u001b[0m\u001b[1m \u001b[0m┃\u001b[1m \u001b[0m\u001b[1mImages\u001b[0m\u001b[1m \u001b[0m┃\u001b[1m \u001b[0m\u001b[1mBoxes\u001b[0m\u001b[1m \u001b[0m┃\n",
       "┡━━━━━━━━━━━━━━━╇━━━━━━━━╇━━━━━━━┩\n",
       "│ 0             │    515 │  1465 │\n",
       "│ 1             │    307 │  1698 │\n",
       "│ 2             │   3229 │  3772 │\n",
       "│ 3             │    324 │  1304 │\n",
       "│ 4             │    978 │ 11630 │\n",
       "│ <empty_image> │     14 │     0 │\n",
       "├───────────────┼────────┼───────┤\n",
       "│\u001b[1m \u001b[0m\u001b[1mTotal        \u001b[0m\u001b[1m \u001b[0m│\u001b[1m \u001b[0m\u001b[1m  5248\u001b[0m\u001b[1m \u001b[0m│\u001b[1m \u001b[0m\u001b[1m19869\u001b[0m\u001b[1m \u001b[0m│\n",
       "└───────────────┴────────┴───────┘\n"
      ]
     },
     "metadata": {},
     "output_type": "display_data"
    }
   ],
   "source": [
    "yolo.show_stats()"
   ]
  },
  {
   "cell_type": "code",
   "execution_count": 16,
   "metadata": {},
   "outputs": [
    {
     "name": "stderr",
     "output_type": "stream",
     "text": [
      "Saving: 100%|██████████| 5248/5248 [00:00<00:00, 67704.17it/s]\n"
     ]
    }
   ],
   "source": [
    "yolo.save_coco(path=\"./AugmentedDatasetCoco\", auto_ids=True, verbose=True)"
   ]
  }
 ],
 "metadata": {
  "kernelspec": {
   "display_name": "myenv",
   "language": "python",
   "name": "python3"
  },
  "language_info": {
   "codemirror_mode": {
    "name": "ipython",
    "version": 3
   },
   "file_extension": ".py",
   "mimetype": "text/x-python",
   "name": "python",
   "nbconvert_exporter": "python",
   "pygments_lexer": "ipython3",
   "version": "3.10.7"
  }
 },
 "nbformat": 4,
 "nbformat_minor": 2
}
